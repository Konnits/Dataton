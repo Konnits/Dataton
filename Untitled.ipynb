{
 "cells": [
  {
   "cell_type": "code",
   "execution_count": 53,
   "id": "973b170e-b21c-4c5c-bc43-8bc5a8c06bb8",
   "metadata": {},
   "outputs": [],
   "source": [
    "import sympy as sp\n",
    "import numpy as np"
   ]
  },
  {
   "cell_type": "code",
   "execution_count": 56,
   "id": "8ee7f189-6591-4f97-bc6c-13385ef2382a",
   "metadata": {},
   "outputs": [],
   "source": [
    "rho = sp.Symbol('r')\n",
    "sigma = sp.Symbol('\\sigma')\n",
    "mu = sp.Symbol('\\mu')\n",
    "n = sp.Symbol('n')\n",
    "k = sp.Symbol('k')\n",
    "i = sp.Symbol('i')\n",
    "j = sp.Symbol('j')"
   ]
  },
  {
   "cell_type": "code",
   "execution_count": 76,
   "id": "17711f86-ecf9-4625-b89e-4efef014559a",
   "metadata": {},
   "outputs": [],
   "source": [
    "def cov(i, j):\n",
    "    if i == j:\n",
    "        return sigma**2\n",
    "    else:\n",
    "        return sigma**2*rho\n",
    "\n",
    "def e(i):\n",
    "    return mu"
   ]
  },
  {
   "cell_type": "code",
   "execution_count": 78,
   "id": "97f5779a-1843-474e-9a4e-3013cc920978",
   "metadata": {},
   "outputs": [],
   "source": [
    "exp1 = sigma**2+mu**2\n",
    "exp2 = sp.summation(cov(k, j) + e(k)*e(j), (j, 1, n))/n\n",
    "exp3 = sp.summation(cov(i, j) + e(i)*e(j), (i, 1, n), (j, 1, n))\n",
    "aux = sp.summation(exp1 - 2*exp2 + exp3, (k, 1, n))/(n-1)"
   ]
  },
  {
   "cell_type": "code",
   "execution_count": 79,
   "id": "3d156f23-d32e-4377-9bda-f3de6cd3c7d5",
   "metadata": {},
   "outputs": [
    {
     "data": {
      "text/latex": [
       "$\\displaystyle \\frac{\\mu^{2} n^{3} - \\mu^{2} n + \\sigma^{2} n^{3} r - 2 \\sigma^{2} n r + \\sigma^{2} n}{n - 1}$"
      ],
      "text/plain": [
       "(\\mu**2*n**3 - \\mu**2*n + \\sigma**2*n**3*r - 2*\\sigma**2*n*r + \\sigma**2*n)/(n - 1)"
      ]
     },
     "execution_count": 79,
     "metadata": {},
     "output_type": "execute_result"
    }
   ],
   "source": [
    "aux.cancel()"
   ]
  },
  {
   "cell_type": "code",
   "execution_count": 83,
   "id": "3685f04f-c1f4-444b-a916-e14e762a924d",
   "metadata": {},
   "outputs": [],
   "source": [
    "aux = n**2*sigma**2+n**2*mu**2-2*n*sigma**2-2*n*(n-1)*sigma**2*rho-2*n**2*mu**2+n*sigma**2+(n**2-n)*sigma**2*rho+n**2*mu**2"
   ]
  },
  {
   "cell_type": "code",
   "execution_count": 88,
   "id": "da15559b-5131-4f92-9491-6fe1eeaeacdc",
   "metadata": {},
   "outputs": [
    {
     "data": {
      "text/latex": [
       "$\\displaystyle - \\sigma^{2} n^{2} r + \\sigma^{2} n^{2} + \\sigma^{2} n r - \\sigma^{2} n$"
      ],
      "text/plain": [
       "-\\sigma**2*n**2*r + \\sigma**2*n**2 + \\sigma**2*n*r - \\sigma**2*n"
      ]
     },
     "execution_count": 88,
     "metadata": {},
     "output_type": "execute_result"
    }
   ],
   "source": [
    "aux.cancel()"
   ]
  }
 ],
 "metadata": {
  "kernelspec": {
   "display_name": "Python 3 (ipykernel)",
   "language": "python",
   "name": "python3"
  },
  "language_info": {
   "codemirror_mode": {
    "name": "ipython",
    "version": 3
   },
   "file_extension": ".py",
   "mimetype": "text/x-python",
   "name": "python",
   "nbconvert_exporter": "python",
   "pygments_lexer": "ipython3",
   "version": "3.9.13"
  }
 },
 "nbformat": 4,
 "nbformat_minor": 5
}
